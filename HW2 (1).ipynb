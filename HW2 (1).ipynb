{
 "cells": [
  {
   "cell_type": "code",
   "execution_count": 3,
   "id": "dd975054",
   "metadata": {},
   "outputs": [
    {
     "name": "stdout",
     "output_type": "stream",
     "text": [
      "Win percentage when switching: 66.44%\n"
     ]
    }
   ],
   "source": [
    "import numpy as np\n",
    "\n",
    "# Setup simulation parameters\n",
    "reps = 100000  # Number of repetitions\n",
    "i_won = 0  # Win counter\n",
    "\n",
    "for i in range(reps):\n",
    "    # Randomly assign the prize door (1, 2, or 3)\n",
    "    secret_winning_door = np.random.choice([1, 2, 3])\n",
    "    \n",
    "    # Player always starts by choosing door 1\n",
    "    my_door_choice = 1\n",
    "    \n",
    "    # Monty reveals a goat door (not the winning door or the player's choice)\n",
    "    possible_goat_doors = [door for door in [1, 2, 3] if door != secret_winning_door and door != my_door_choice]\n",
    "    goat_door_reveal = np.random.choice(possible_goat_doors)\n",
    "    \n",
    "    # Player switches to the remaining unopened door\n",
    "    my_door_choice = [door for door in [1, 2, 3] if door != my_door_choice and door != goat_door_reveal][0]\n",
    "    \n",
    "    # Check if the new choice is the winning door\n",
    "    if my_door_choice == secret_winning_door:\n",
    "        i_won += 1\n",
    "\n",
    "# Calculate win percentage\n",
    "win_percentage = i_won / reps\n",
    "print(f\"Win percentage when switching: {win_percentage * 100}%\")"
   ]
  },
  {
   "cell_type": "markdown",
   "id": "d966c53e",
   "metadata": {},
   "source": [
    "chatgpt:https://chatgpt.com/share/66f1d3bd-cf44-8012-babd-4a455eca7650"
   ]
  }
 ],
 "metadata": {
  "kernelspec": {
   "display_name": "Python 3 (ipykernel)",
   "language": "python",
   "name": "python3"
  },
  "language_info": {
   "codemirror_mode": {
    "name": "ipython",
    "version": 3
   },
   "file_extension": ".py",
   "mimetype": "text/x-python",
   "name": "python",
   "nbconvert_exporter": "python",
   "pygments_lexer": "ipython3",
   "version": "3.11.6"
  }
 },
 "nbformat": 4,
 "nbformat_minor": 5
}
