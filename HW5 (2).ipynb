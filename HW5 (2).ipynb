{
 "cells": [
  {
   "cell_type": "markdown",
   "id": "55c18795",
   "metadata": {},
   "source": [
    "Q2:In general, sample statistics are the first step towards population parameters, which are the things we really need to analyze data and draw conclusions from it. Both x and x-bar are sample statistics, while u and u0 are population parameters."
   ]
  },
  {
   "cell_type": "markdown",
   "id": "4ba519a8",
   "metadata": {},
   "source": [
    " Q:If the observed test statistic is closer to the tail of the sampling distribution of the test statistic, this is considered less likely to occur by chance, and therefore, the P-value is smaller, indicating that the probability of the null hypothesis H0 occurring is smaller.\n",
    "The p-value is the probability of the null hypothesis occurring, and H0 is the hypothesis that I am assuming."
   ]
  },
  {
   "cell_type": "markdown",
   "id": "7e6c8632",
   "metadata": {},
   "source": [
    "Q8  \n",
    "Both experiments were judgments on the hypothesis that someone can tell whether to pour the milk first or the tea first, but one was for individuals and the other was for groups.\n",
    "H0:The students' guesses are random, meaning that the probability of success is =0.5 P=0.5\n",
    "  The students don't know a thing. They're just making wild guesses.\n",
    "H1:The students' guesses are not random, meaning that the success rate P=0.5.\n",
    "  Students are capable of telling the difference.\n",
    "By comparing sample data with the assumed population parameters, we can determine whether there is sufficient evidence to reject the null \n",
    "hypothesis H0\n",
    "We can obtain sufficient evidence to reject H0 through statistical measures."
   ]
  },
  {
   "cell_type": "code",
   "execution_count": 4,
   "id": "bb6f39ff",
   "metadata": {},
   "outputs": [
    {
     "name": "stdout",
     "output_type": "stream",
     "text": [
      "Test Statistic: 49/80 = 0.61\n",
      "P-value: 0.0283\n",
      "Reject the null hypothesis (H0). The students likely perform better than random guessing.\n",
      "Simulated P-value: 0.0294\n",
      "Reject the null hypothesis (H0) based on the simulation. The students likely perform better than random guessing.\n"
     ]
    }
   ],
   "source": [
    "import numpy as np\n",
    "from scipy.stats import binomtest\n",
    "\n",
    "# Set seed for reproducibility\n",
    "np.random.seed(42)\n",
    "\n",
    "# Data\n",
    "n = 80  # Number of students\n",
    "x = 49  # Number of correct identifications\n",
    "p_null = 0.5  # Null hypothesis proportion\n",
    "\n",
    "# Perform a one-sample binomial test (one-tailed)\n",
    "test_result = binomtest(x, n, p_null, alternative='greater')\n",
    "\n",
    "# Display results of the binomial test\n",
    "print(f\"Test Statistic: {x}/{n} = {x/n:.2f}\")\n",
    "print(f\"P-value: {test_result.pvalue:.4f}\")\n",
    "\n",
    "# Interpretation of the binomial test\n",
    "if test_result.pvalue < 0.05:\n",
    "    print(\"Reject the null hypothesis (H0). The students likely perform better than random guessing.\")\n",
    "else:\n",
    "    print(\"Fail to reject the null hypothesis (H0). The students may be guessing.\")\n",
    "\n",
    "# Optional: Simulation to validate the p-value\n",
    "simulations = 10000  # Number of simulations\n",
    "successes = np.random.binomial(n, p_null, simulations)\n",
    "\n",
    "# Calculate the proportion of simulated outcomes with >= 49 successes\n",
    "simulated_p_value = np.mean(successes >= x)\n",
    "\n",
    "# Display results of the simulation\n",
    "print(f\"Simulated P-value: {simulated_p_value:.4f}\")\n",
    "\n",
    "# Interpretation of the simulation result\n",
    "if simulated_p_value < 0.05:\n",
    "    print(\"Reject the null hypothesis (H0) based on the simulation. The students likely perform better than random guessing.\")\n",
    "else:\n",
    "    print(\"Fail to reject the null hypothesis (H0) based on the simulation. The students may be guessing.\")\n"
   ]
  },
  {
   "cell_type": "markdown",
   "id": "b877283e",
   "metadata": {},
   "source": [
    "P < =0.05, we have sufficient evidence to conclude that the null hypothesis H0 is not true. We believe that students can determine the order of pouring tea and milk."
   ]
  },
  {
   "cell_type": "code",
   "execution_count": null,
   "id": "51712413",
   "metadata": {},
   "outputs": [],
   "source": [
    "https://chatgpt.com/share/670eff3b-13b8-8012-b478-778bd74937fa"
   ]
  }
 ],
 "metadata": {
  "kernelspec": {
   "display_name": "Python 3 (ipykernel)",
   "language": "python",
   "name": "python3"
  },
  "language_info": {
   "codemirror_mode": {
    "name": "ipython",
    "version": 3
   },
   "file_extension": ".py",
   "mimetype": "text/x-python",
   "name": "python",
   "nbconvert_exporter": "python",
   "pygments_lexer": "ipython3",
   "version": "3.11.6"
  }
 },
 "nbformat": 4,
 "nbformat_minor": 5
}
